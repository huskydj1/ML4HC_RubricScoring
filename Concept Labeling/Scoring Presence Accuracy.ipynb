{
 "cells": [
  {
   "cell_type": "code",
   "execution_count": 1,
   "id": "465455ca-c410-4c26-aa68-6b965281caec",
   "metadata": {},
   "outputs": [],
   "source": [
    "import pandas as pd\n",
    "import numpy as np\n",
    "import os"
   ]
  },
  {
   "cell_type": "code",
   "execution_count": 2,
   "id": "96ca95e9-6c85-4d95-b811-f85fbb13adba",
   "metadata": {},
   "outputs": [
    {
     "name": "stdout",
     "output_type": "stream",
     "text": [
      "note_gpt.csv          transcript_gpt.csv\n",
      "note_manual.csv       transcript_manual.csv\n"
     ]
    }
   ],
   "source": [
    "!ls data/6"
   ]
  },
  {
   "cell_type": "code",
   "execution_count": 3,
   "id": "49cfb362-a76c-40d8-8517-9fbbf22ff16b",
   "metadata": {},
   "outputs": [],
   "source": [
    "def preprocess_dataframes(df_gpt, df_manual):\n",
    "    # get rid of whitespace around text\n",
    "    df_gpt.columns = df_gpt.columns.str.strip()\n",
    "    df_gpt = df_gpt.applymap(lambda x: x.strip() if isinstance(x, str) else x)\n",
    "    \n",
    "    df_manual.columns = df_manual.columns.str.strip()\n",
    "    df_manual = df_manual.applymap(lambda x: x.strip() if isinstance(x, str) else x)\n",
    "\n",
    "    # make sure they have the same columns\n",
    "    assert (set(df_gpt.columns) - set([\"Timestamp\", \"Script\"])) == (set(df_manual.columns) - set([\"Timestamp\", \"Script\"]))\n",
    "\n",
    "    # make sure they have the same shape\n",
    "    assert df_gpt.shape == df_manual.shape\n",
    "\n",
    "    return df_gpt, df_manual"
   ]
  },
  {
   "cell_type": "code",
   "execution_count": 4,
   "id": "61b9e565-8953-4264-ad8e-4b20b715e836",
   "metadata": {},
   "outputs": [
    {
     "ename": "NameError",
     "evalue": "name 'row_m' is not defined",
     "output_type": "error",
     "traceback": [
      "\u001b[0;31m---------------------------------------------------------------------------\u001b[0m",
      "\u001b[0;31mNameError\u001b[0m                                 Traceback (most recent call last)",
      "Cell \u001b[0;32mIn[4], line 1\u001b[0m\n\u001b[0;32m----> 1\u001b[0m \u001b[43mrow_m\u001b[49m\u001b[38;5;241m.\u001b[39mhead()\n",
      "\u001b[0;31mNameError\u001b[0m: name 'row_m' is not defined"
     ]
    }
   ],
   "source": [
    "row_m.head()"
   ]
  },
  {
   "cell_type": "raw",
   "id": "6940ddb7-acc6-49b3-b4f9-f742fd23b267",
   "metadata": {},
   "source": [
    "for patient_no in [6, 7, 8, 9, 10, 16, 17, 18, 19, 20]:\n",
    "\n",
    "    print(f\"PROCESSING {patient_no}\")\n",
    "\n",
    "    # check that needed files exist\n",
    "    for file_type in [\"note_gpt.csv\", \"transcript_gpt.csv\", \"note_manual.csv\", \"transcript_manual.csv\"]:\n",
    "        assert os.path.isfile(f\"data/{patient_no}/{file_type}\")\n",
    "    \n",
    "    # for each pair\n",
    "    for df_gpt, df_manual, doc_type in [\n",
    "        (pd.read_csv(f\"data/{patient_no}/transcript_gpt.csv\"), pd.read_csv(f\"data/{patient_no}/transcript_manual.csv\"), \"Transcript\"),\n",
    "\n",
    "        (pd.read_csv(f\"data/{patient_no}/note_gpt.csv\"), pd.read_csv(f\"data/{patient_no}/note_manual.csv\"), \"Note\"),\n",
    "    ]:\n",
    "        print(f\"COMPARING GPT AND MANUAL {doc_type}\")\n",
    "        \n",
    "        # Make sure formats align \n",
    "        df_gpt, df_manual = preprocess_dataframes(df_gpt, df_manual)\n",
    "\n",
    "        # Iterate and calculate statistics\n",
    "\n",
    "        \n",
    "        positive_features = []\n",
    "        negative_features = []\n",
    "        missing_features = []\n",
    "        \n",
    "        total_count = 0\n",
    "\n",
    "        incorrect_features = []\n",
    "        correct_features = []\n",
    "            \n",
    "\n",
    "        for feature_j in set(df_manual.columns) - set([\n",
    "                \"Timestamp\", \"Script\", \"Sentence\", 'Baseline Laboratory Values - Hemoglobin/Hematocrit', 'Baseline Laboratory Values - Platelet Count', 'Baseline Laboratory Values - Coagulopathy (PTT, PT/INR)'\n",
    "            ]):\n",
    "\n",
    "            label_gpt = []\n",
    "            label_manual = []\n",
    "\n",
    "            for (index_g, row_g), (index_m, row_m) in zip(df_gpt.iterrows(), df_manual.iterrows()):\n",
    "                \n",
    "                if row_m[feature_j] == 'Positive':\n",
    "                    label_manual.append('Positive')\n",
    "                elif row_m[feature_j] == 'Negative':\n",
    "                    label_manual.append('Negative')\n",
    "                elif pd.isna(row_m[feature_j]) or row_m[feature_j]=='':\n",
    "                    pass\n",
    "                else:\n",
    "                    print(f\"SOMETHING IS WRONG {row_m[feature_j]}\")\n",
    "                    assert False \n",
    "\n",
    "\n",
    "                if row_g[feature_j] == 'Positive':\n",
    "                    label_gpt.append('Positive')\n",
    "                elif row_g[feature_j] == 'Negative':\n",
    "                    label_gpt.append('Negative')\n",
    "                elif pd.isna(row_g[feature_j]) or row_g[feature_j]=='':\n",
    "                    pass\n",
    "                else:\n",
    "                    print(f\"SOMETHING IS WRONG {row_g[feature_j]}\")\n",
    "                    assert False \n",
    "\n",
    "            def relabel(lst):\n",
    "                if len(lst)==0:\n",
    "                    return 'Missing'\n",
    "                \n",
    "                counts = {x: lst.count(x) for x in set(lst)}\n",
    "                max_count = max(counts.values())\n",
    "                most_frequent = [k for k, v in counts.items() if v == max_count]\n",
    "                assert len(most_frequent) == 1\n",
    "                return most_frequent[0]\n",
    "                \n",
    "            label_gpt, label_manual = relabel(label_gpt), relabel(label_manual)\n",
    "\n",
    "            # if label_manual == 'Missing':\n",
    "            #     missing_features.append(feature_j)\n",
    "            # elif label_manual == 'Positive':\n",
    "            #     positive_features.append('Positive')\n",
    "            # elif label_manual == 'Negative':\n",
    "            #     negative_features.append('Negative')\n",
    "            # else:\n",
    "            #     assert False \n",
    "            if label_gpt == label_manual:\n",
    "                correct_features.append(feature_j)\n",
    "            else:\n",
    "                print(feature_j)\n",
    "                incorrect_features.append(feature_j)\n",
    "\n",
    "        # print(len(positive_features), len(negative_features), len(missing_features))\n",
    "        print(len(incorrect_features), len(correct_features))"
   ]
  },
  {
   "cell_type": "code",
   "execution_count": 15,
   "id": "f029f1bd-af88-4893-95f5-c2bd240bedf8",
   "metadata": {},
   "outputs": [],
   "source": []
  }
 ],
 "metadata": {
  "kernelspec": {
   "display_name": "Python 3 (ipykernel)",
   "language": "python",
   "name": "python3"
  },
  "language_info": {
   "codemirror_mode": {
    "name": "ipython",
    "version": 3
   },
   "file_extension": ".py",
   "mimetype": "text/x-python",
   "name": "python",
   "nbconvert_exporter": "python",
   "pygments_lexer": "ipython3",
   "version": "3.11.8"
  }
 },
 "nbformat": 4,
 "nbformat_minor": 5
}
